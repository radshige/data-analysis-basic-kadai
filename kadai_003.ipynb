{
  "nbformat": 4,
  "nbformat_minor": 0,
  "metadata": {
    "colab": {
      "provenance": []
    },
    "kernelspec": {
      "name": "python3",
      "display_name": "Python 3"
    },
    "language_info": {
      "name": "python"
    }
  },
  "cells": [
    {
      "cell_type": "code",
      "execution_count": 13,
      "metadata": {
        "colab": {
          "base_uri": "https://localhost:8080/"
        },
        "id": "wfIEYR5zj1U_",
        "outputId": "b28a6fa3-e089-4216-9acc-3a26118f29f8"
      },
      "outputs": [
        {
          "output_type": "execute_result",
          "data": {
            "text/plain": [
              "array([[ 4,  5,  6,  7],\n",
              "       [12, 17, 22, 27],\n",
              "       [20, 29, 38, 47]])"
            ]
          },
          "metadata": {},
          "execution_count": 13
        }
      ],
      "source": [
        "import numpy as np\n",
        "\n",
        "a = np.array([[0, 1],[2, 3],[4, 5]])\n",
        "b = np.array([[0, 1, 2, 3],[4, 5, 6, 7]])\n",
        "np.dot(a, b)\n",
        "\n"
      ]
    },
    {
      "cell_type": "code",
      "source": [
        "result = np.dot(a, b)\n",
        "result.max()"
      ],
      "metadata": {
        "colab": {
          "base_uri": "https://localhost:8080/"
        },
        "id": "P2aFFL7MmgI1",
        "outputId": "4888a5e9-f1fd-4ff9-f2d1-0a037524720a"
      },
      "execution_count": 14,
      "outputs": [
        {
          "output_type": "execute_result",
          "data": {
            "text/plain": [
              "47"
            ]
          },
          "metadata": {},
          "execution_count": 14
        }
      ]
    }
  ]
}